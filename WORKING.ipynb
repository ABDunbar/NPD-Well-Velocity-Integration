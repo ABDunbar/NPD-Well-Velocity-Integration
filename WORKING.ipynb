{
 "cells": [
  {
   "cell_type": "markdown",
   "metadata": {},
   "source": [
    "# Create checkshot velocity data"
   ]
  },
  {
   "cell_type": "markdown",
   "metadata": {},
   "source": [
    "### The following script imports data from both an external website (npd.no) and from an exported \n",
    "### file out of Petrel.  The data sources are then combined and parameters are calculated from them\n",
    "### eg. Thickness, one-way-time, interval velocity."
   ]
  },
  {
   "cell_type": "code",
   "execution_count": 1,
   "metadata": {},
   "outputs": [],
   "source": [
    "import pandas as pd\n",
    "import numpy as np\n",
    "import matplotlib.pyplot as plt\n",
    "import seaborn as sns\n",
    "%matplotlib inline"
   ]
  },
  {
   "cell_type": "markdown",
   "metadata": {},
   "source": [
    "## Import NPD Tops spreadsheet from website"
   ]
  },
  {
   "cell_type": "code",
   "execution_count": 2,
   "metadata": {},
   "outputs": [],
   "source": [
    "npd_link = r'https://npdfactpages.npd.no/ReportServer_npdpublic?/FactPages/TableView/wellbore_formation_top&rs:Command=Render&rc:Toolbar=false&rc:Parameters=f&rs:Format=CSV&Top100=false&IpAddress=84.208.221.128&CultureCode=en'\n",
    "\n",
    "tops = pd.read_csv(npd_link)\n",
    "\n",
    "columns = list(tops.columns)\n",
    "\n",
    "rename = [\"Well\", \"MD\", \"Base\", \"Surface\", \"Level\", \"Parent\", \"Id\", \"LithoStrat\", \"LithoStratParent\", \"Date\", \"Sync\"]\n",
    "\n",
    "rename_cols = dict(zip(columns,rename))\n",
    "\n",
    "tops.rename(columns=rename_cols, inplace=True)\n",
    "\n",
    "# Remove GP names from the list\n",
    "#data[ data.duplicated(subset=['Well', 'MD'], keep='last')].Surface.str.contains(\"GP\")\n",
    "tops = tops[ ~tops['Surface'].str.contains(\"GP\")]\n",
    "\n",
    "# Remove MBR names from the list\n",
    "#data[ data.duplicated(subset=['Well', 'MD'], keep='last')].Surface.str.contains(\"MBR\")\n",
    "tops = tops[ ~tops['Surface'].str.contains(\"MBR\")]\n",
    "\n",
    "tops.drop(['Level', 'Parent', 'Id', 'LithoStrat', 'LithoStratParent', 'Date', 'Sync'], axis=1, inplace=True)"
   ]
  },
  {
   "cell_type": "markdown",
   "metadata": {},
   "source": [
    "## Import Petrel tops"
   ]
  },
  {
   "cell_type": "code",
   "execution_count": 3,
   "metadata": {},
   "outputs": [],
   "source": [
    "petrel_tops = pd.read_csv('tops.csv')\n",
    "\n",
    "petrel_tops.rename(columns={'Well identifier':'Well', 'Z':'TVDSS','TWT auto':'TWT'}, inplace=True)\n",
    "\n",
    "petrel_tops.TVDSS = petrel_tops['TVDSS']*-1\n",
    "\n",
    "# Remove rows that have Surface named in del_rows\n",
    "\n",
    "del_rows = ['UNDIFFERENTIATED', 'NO FORMAL NAME', 'NO GROUP DEFINED', 'UNDEFINED GP']\n",
    "\n",
    "for i in range(len(del_rows)):\n",
    "    petrel_tops = petrel_tops[ petrel_tops.Surface != del_rows[i]]\n",
    "\n",
    "# Replace misspelled Formation names with correct spelling\n",
    "\n",
    "typos = {'Surface' : {'STﾘ FM':'STØ FM', 'TUBﾅEN FM':'TUBÅEN FM', '?RRET FM':'ØRRET FM',\n",
    "         'R?YE FM':'RØYE FM', '?RN FM':'ØRN FM', 'ISBJ?RN FM':'ISBJØRN FM', 'BL坦EROT FM':'BLÆREROT FM'}}\n",
    "\n",
    "petrel_tops.replace(typos, inplace=True)\n",
    "\n",
    "### THIS ASSUMES THAT ONLY FORMATION TOPS WILL BE USED ###\n",
    "\n",
    "# Remove GP names from the list\n",
    "#data[ data.duplicated(subset=['Well', 'MD'], keep='last')].Surface.str.contains(\"GP\")\n",
    "petrel_tops = petrel_tops[ ~petrel_tops['Surface'].str.contains(\"GP\")]\n",
    "\n",
    "# Remove MBR names from the list\n",
    "#data[ data.duplicated(subset=['Well', 'MD'], keep='last')].Surface.str.contains(\"MBR\")\n",
    "petrel_tops = petrel_tops[ ~petrel_tops['Surface'].str.contains(\"MBR\")]"
   ]
  },
  {
   "cell_type": "markdown",
   "metadata": {},
   "source": [
    "## Merge NPD and Petrel dataframes"
   ]
  },
  {
   "cell_type": "code",
   "execution_count": 4,
   "metadata": {},
   "outputs": [
    {
     "name": "stderr",
     "output_type": "stream",
     "text": [
      "C:\\Users\\Dunbar\\Anaconda3\\lib\\site-packages\\pandas\\core\\reshape\\merge.py:1100: UserWarning: You are merging on int and float columns where the float values are not equal to their int representation\n",
      "  UserWarning,\n"
     ]
    }
   ],
   "source": [
    "merge = pd.merge(tops, petrel_tops)"
   ]
  },
  {
   "cell_type": "code",
   "execution_count": 5,
   "metadata": {},
   "outputs": [],
   "source": [
    "merge['Thickness'] = merge['Base'] - merge['MD']"
   ]
  },
  {
   "cell_type": "code",
   "execution_count": 6,
   "metadata": {},
   "outputs": [
    {
     "name": "stdout",
     "output_type": "stream",
     "text": [
      "['X7220_11_3AR', 'X7220_11_1', 'X7220_10_1', 'X7219_12_1', 'X7120_2_3S', 'X7120_2_1', 'X7120_1_4S', 'X7120_1_3', 'X7120_1_1R2']\n"
     ]
    }
   ],
   "source": [
    "wells = list(merge.Well.unique())\n",
    "well_list = []\n",
    "for well in wells:\n",
    "    well = well.replace('/','_')\n",
    "    well = well.replace('-', '_')\n",
    "    well = well.replace(\" \",\"\")\n",
    "    well = 'X' + well\n",
    "    well_list.append(well)\n",
    "print(well_list)"
   ]
  },
  {
   "cell_type": "code",
   "execution_count": 7,
   "metadata": {},
   "outputs": [
    {
     "name": "stdout",
     "output_type": "stream",
     "text": [
      "{'X7220_11_3AR': '7220/11-3 AR', 'X7220_11_1': '7220/11-1', 'X7220_10_1': '7220/10-1', 'X7219_12_1': '7219/12-1', 'X7120_2_3S': '7120/2-3 S', 'X7120_2_1': '7120/2-1', 'X7120_1_4S': '7120/1-4 S', 'X7120_1_3': '7120/1-3', 'X7120_1_1R2': '7120/1-1 R2'}\n"
     ]
    }
   ],
   "source": [
    "well_dict = {}\n",
    "for i,j in zip(well_list, wells):\n",
    "    well_dict[i]=j\n",
    "print(well_dict)"
   ]
  },
  {
   "cell_type": "code",
   "execution_count": 8,
   "metadata": {},
   "outputs": [],
   "source": [
    "def isochron(df):\n",
    "    frame = pd.DataFrame()\n",
    "    for k,v in well_dict.items():\n",
    "        k = df[df['Well']==v].sort_values(by=['MD'])\n",
    "        k['TWT_d'] = k['TWT'].shift(-1)\n",
    "        k['Isochron'] = (k['TWT_d'] - k['TWT']) / 2000\n",
    "        k['Vint'] = k['Thickness'] / k['Isochron']\n",
    "        frame = frame.append(k)\n",
    "    return frame\n",
    "\n",
    "result = isochron(merge)"
   ]
  },
  {
   "cell_type": "code",
   "execution_count": 9,
   "metadata": {},
   "outputs": [
    {
     "data": {
      "text/html": [
       "<div>\n",
       "<style scoped>\n",
       "    .dataframe tbody tr th:only-of-type {\n",
       "        vertical-align: middle;\n",
       "    }\n",
       "\n",
       "    .dataframe tbody tr th {\n",
       "        vertical-align: top;\n",
       "    }\n",
       "\n",
       "    .dataframe thead th {\n",
       "        text-align: right;\n",
       "    }\n",
       "</style>\n",
       "<table border=\"1\" class=\"dataframe\">\n",
       "  <thead>\n",
       "    <tr style=\"text-align: right;\">\n",
       "      <th></th>\n",
       "      <th>Well</th>\n",
       "      <th>MD</th>\n",
       "      <th>Base</th>\n",
       "      <th>Surface</th>\n",
       "      <th>X</th>\n",
       "      <th>Y</th>\n",
       "      <th>TVDSS</th>\n",
       "      <th>TWT</th>\n",
       "      <th>Thickness</th>\n",
       "      <th>TWT_d</th>\n",
       "      <th>Isochron</th>\n",
       "      <th>Vint</th>\n",
       "    </tr>\n",
       "  </thead>\n",
       "  <tbody>\n",
       "    <tr>\n",
       "      <td>68</td>\n",
       "      <td>7120/1-1 R2</td>\n",
       "      <td>490</td>\n",
       "      <td>692</td>\n",
       "      <td>TORSK FM</td>\n",
       "      <td>475816.56</td>\n",
       "      <td>7980018.58</td>\n",
       "      <td>464.99</td>\n",
       "      <td>575.68</td>\n",
       "      <td>202</td>\n",
       "      <td>757.86</td>\n",
       "      <td>0.091090</td>\n",
       "      <td>2217.587002</td>\n",
       "    </tr>\n",
       "    <tr>\n",
       "      <td>61</td>\n",
       "      <td>7120/1-1 R2</td>\n",
       "      <td>692</td>\n",
       "      <td>1106</td>\n",
       "      <td>FRUHOLMEN FM</td>\n",
       "      <td>475816.59</td>\n",
       "      <td>7980015.76</td>\n",
       "      <td>666.96</td>\n",
       "      <td>757.86</td>\n",
       "      <td>414</td>\n",
       "      <td>1067.07</td>\n",
       "      <td>0.154605</td>\n",
       "      <td>2677.791792</td>\n",
       "    </tr>\n",
       "    <tr>\n",
       "      <td>60</td>\n",
       "      <td>7120/1-1 R2</td>\n",
       "      <td>1106</td>\n",
       "      <td>2285</td>\n",
       "      <td>SNADD FM</td>\n",
       "      <td>475816.14</td>\n",
       "      <td>7980015.31</td>\n",
       "      <td>1080.96</td>\n",
       "      <td>1067.07</td>\n",
       "      <td>1179</td>\n",
       "      <td>1761.48</td>\n",
       "      <td>0.347205</td>\n",
       "      <td>3395.688426</td>\n",
       "    </tr>\n",
       "    <tr>\n",
       "      <td>65</td>\n",
       "      <td>7120/1-1 R2</td>\n",
       "      <td>2285</td>\n",
       "      <td>2315</td>\n",
       "      <td>KOBBE FM</td>\n",
       "      <td>475801.04</td>\n",
       "      <td>7980006.31</td>\n",
       "      <td>2259.77</td>\n",
       "      <td>1761.48</td>\n",
       "      <td>30</td>\n",
       "      <td>1777.62</td>\n",
       "      <td>0.008070</td>\n",
       "      <td>3717.472119</td>\n",
       "    </tr>\n",
       "    <tr>\n",
       "      <td>66</td>\n",
       "      <td>7120/1-1 R2</td>\n",
       "      <td>2315</td>\n",
       "      <td>2373</td>\n",
       "      <td>KLAPPMYSS FM</td>\n",
       "      <td>475800.09</td>\n",
       "      <td>7980005.89</td>\n",
       "      <td>2289.75</td>\n",
       "      <td>1777.62</td>\n",
       "      <td>58</td>\n",
       "      <td>1805.59</td>\n",
       "      <td>0.013985</td>\n",
       "      <td>4147.300679</td>\n",
       "    </tr>\n",
       "  </tbody>\n",
       "</table>\n",
       "</div>"
      ],
      "text/plain": [
       "           Well    MD  Base       Surface          X           Y    TVDSS  \\\n",
       "68  7120/1-1 R2   490   692      TORSK FM  475816.56  7980018.58   464.99   \n",
       "61  7120/1-1 R2   692  1106  FRUHOLMEN FM  475816.59  7980015.76   666.96   \n",
       "60  7120/1-1 R2  1106  2285      SNADD FM  475816.14  7980015.31  1080.96   \n",
       "65  7120/1-1 R2  2285  2315      KOBBE FM  475801.04  7980006.31  2259.77   \n",
       "66  7120/1-1 R2  2315  2373  KLAPPMYSS FM  475800.09  7980005.89  2289.75   \n",
       "\n",
       "        TWT  Thickness    TWT_d  Isochron         Vint  \n",
       "68   575.68        202   757.86  0.091090  2217.587002  \n",
       "61   757.86        414  1067.07  0.154605  2677.791792  \n",
       "60  1067.07       1179  1761.48  0.347205  3395.688426  \n",
       "65  1761.48         30  1777.62  0.008070  3717.472119  \n",
       "66  1777.62         58  1805.59  0.013985  4147.300679  "
      ]
     },
     "execution_count": 9,
     "metadata": {},
     "output_type": "execute_result"
    }
   ],
   "source": [
    "result[result.Well == '7120/1-1 R2'].head()"
   ]
  },
  {
   "cell_type": "markdown",
   "metadata": {},
   "source": [
    "### Checking results for a Formation (Snadd, Kobbe, Orn, Orret, Roye)"
   ]
  },
  {
   "cell_type": "code",
   "execution_count": 10,
   "metadata": {},
   "outputs": [
    {
     "data": {
      "text/html": [
       "<div>\n",
       "<style scoped>\n",
       "    .dataframe tbody tr th:only-of-type {\n",
       "        vertical-align: middle;\n",
       "    }\n",
       "\n",
       "    .dataframe tbody tr th {\n",
       "        vertical-align: top;\n",
       "    }\n",
       "\n",
       "    .dataframe thead th {\n",
       "        text-align: right;\n",
       "    }\n",
       "</style>\n",
       "<table border=\"1\" class=\"dataframe\">\n",
       "  <thead>\n",
       "    <tr style=\"text-align: right;\">\n",
       "      <th></th>\n",
       "      <th>Well</th>\n",
       "      <th>MD</th>\n",
       "      <th>Base</th>\n",
       "      <th>Surface</th>\n",
       "      <th>X</th>\n",
       "      <th>Y</th>\n",
       "      <th>TVDSS</th>\n",
       "      <th>TWT</th>\n",
       "      <th>Thickness</th>\n",
       "      <th>TWT_d</th>\n",
       "      <th>Isochron</th>\n",
       "      <th>Vint</th>\n",
       "    </tr>\n",
       "  </thead>\n",
       "  <tbody>\n",
       "    <tr>\n",
       "      <td>7</td>\n",
       "      <td>7220/11-3 AR</td>\n",
       "      <td>601</td>\n",
       "      <td>1982</td>\n",
       "      <td>SNADD FM</td>\n",
       "      <td>483739.89</td>\n",
       "      <td>7991462.08</td>\n",
       "      <td>575.97</td>\n",
       "      <td>720.98</td>\n",
       "      <td>1381</td>\n",
       "      <td>1552.74</td>\n",
       "      <td>0.415880</td>\n",
       "      <td>3320.669424</td>\n",
       "    </tr>\n",
       "    <tr>\n",
       "      <td>8</td>\n",
       "      <td>7220/11-1</td>\n",
       "      <td>580</td>\n",
       "      <td>1852</td>\n",
       "      <td>SNADD FM</td>\n",
       "      <td>484390.24</td>\n",
       "      <td>7995617.97</td>\n",
       "      <td>549.99</td>\n",
       "      <td>659.19</td>\n",
       "      <td>1272</td>\n",
       "      <td>1531.82</td>\n",
       "      <td>0.436315</td>\n",
       "      <td>2915.324937</td>\n",
       "    </tr>\n",
       "    <tr>\n",
       "      <td>23</td>\n",
       "      <td>7220/10-1</td>\n",
       "      <td>2303</td>\n",
       "      <td>2405</td>\n",
       "      <td>SNADD FM</td>\n",
       "      <td>467503.90</td>\n",
       "      <td>7991178.85</td>\n",
       "      <td>2268.99</td>\n",
       "      <td>1794.16</td>\n",
       "      <td>102</td>\n",
       "      <td>NaN</td>\n",
       "      <td>NaN</td>\n",
       "      <td>NaN</td>\n",
       "    </tr>\n",
       "    <tr>\n",
       "      <td>28</td>\n",
       "      <td>7120/2-3 S</td>\n",
       "      <td>2563</td>\n",
       "      <td>2625</td>\n",
       "      <td>SNADD FM</td>\n",
       "      <td>477676.44</td>\n",
       "      <td>7965806.20</td>\n",
       "      <td>2535.17</td>\n",
       "      <td>1983.12</td>\n",
       "      <td>62</td>\n",
       "      <td>NaN</td>\n",
       "      <td>NaN</td>\n",
       "      <td>NaN</td>\n",
       "    </tr>\n",
       "    <tr>\n",
       "      <td>39</td>\n",
       "      <td>7120/2-1</td>\n",
       "      <td>613</td>\n",
       "      <td>1933</td>\n",
       "      <td>SNADD FM</td>\n",
       "      <td>481920.18</td>\n",
       "      <td>7987310.83</td>\n",
       "      <td>589.87</td>\n",
       "      <td>708.53</td>\n",
       "      <td>1320</td>\n",
       "      <td>1577.85</td>\n",
       "      <td>0.434660</td>\n",
       "      <td>3036.856394</td>\n",
       "    </tr>\n",
       "    <tr>\n",
       "      <td>46</td>\n",
       "      <td>7120/1-4 S</td>\n",
       "      <td>733</td>\n",
       "      <td>2274</td>\n",
       "      <td>SNADD FM</td>\n",
       "      <td>471248.15</td>\n",
       "      <td>7982515.38</td>\n",
       "      <td>702.98</td>\n",
       "      <td>797.19</td>\n",
       "      <td>1541</td>\n",
       "      <td>1763.32</td>\n",
       "      <td>0.483065</td>\n",
       "      <td>3190.046888</td>\n",
       "    </tr>\n",
       "    <tr>\n",
       "      <td>54</td>\n",
       "      <td>7120/1-3</td>\n",
       "      <td>1101</td>\n",
       "      <td>2203</td>\n",
       "      <td>SNADD FM</td>\n",
       "      <td>474680.07</td>\n",
       "      <td>7978470.92</td>\n",
       "      <td>1076.98</td>\n",
       "      <td>1073.31</td>\n",
       "      <td>1102</td>\n",
       "      <td>1728.17</td>\n",
       "      <td>0.327430</td>\n",
       "      <td>3365.604862</td>\n",
       "    </tr>\n",
       "    <tr>\n",
       "      <td>60</td>\n",
       "      <td>7120/1-1 R2</td>\n",
       "      <td>1106</td>\n",
       "      <td>2285</td>\n",
       "      <td>SNADD FM</td>\n",
       "      <td>475816.14</td>\n",
       "      <td>7980015.31</td>\n",
       "      <td>1080.96</td>\n",
       "      <td>1067.07</td>\n",
       "      <td>1179</td>\n",
       "      <td>1761.48</td>\n",
       "      <td>0.347205</td>\n",
       "      <td>3395.688426</td>\n",
       "    </tr>\n",
       "  </tbody>\n",
       "</table>\n",
       "</div>"
      ],
      "text/plain": [
       "            Well    MD  Base   Surface          X           Y    TVDSS  \\\n",
       "7   7220/11-3 AR   601  1982  SNADD FM  483739.89  7991462.08   575.97   \n",
       "8      7220/11-1   580  1852  SNADD FM  484390.24  7995617.97   549.99   \n",
       "23     7220/10-1  2303  2405  SNADD FM  467503.90  7991178.85  2268.99   \n",
       "28    7120/2-3 S  2563  2625  SNADD FM  477676.44  7965806.20  2535.17   \n",
       "39      7120/2-1   613  1933  SNADD FM  481920.18  7987310.83   589.87   \n",
       "46    7120/1-4 S   733  2274  SNADD FM  471248.15  7982515.38   702.98   \n",
       "54      7120/1-3  1101  2203  SNADD FM  474680.07  7978470.92  1076.98   \n",
       "60   7120/1-1 R2  1106  2285  SNADD FM  475816.14  7980015.31  1080.96   \n",
       "\n",
       "        TWT  Thickness    TWT_d  Isochron         Vint  \n",
       "7    720.98       1381  1552.74  0.415880  3320.669424  \n",
       "8    659.19       1272  1531.82  0.436315  2915.324937  \n",
       "23  1794.16        102      NaN       NaN          NaN  \n",
       "28  1983.12         62      NaN       NaN          NaN  \n",
       "39   708.53       1320  1577.85  0.434660  3036.856394  \n",
       "46   797.19       1541  1763.32  0.483065  3190.046888  \n",
       "54  1073.31       1102  1728.17  0.327430  3365.604862  \n",
       "60  1067.07       1179  1761.48  0.347205  3395.688426  "
      ]
     },
     "execution_count": 10,
     "metadata": {},
     "output_type": "execute_result"
    }
   ],
   "source": [
    "result[result['Surface']=='SNADD FM']"
   ]
  },
  {
   "cell_type": "code",
   "execution_count": null,
   "metadata": {},
   "outputs": [],
   "source": []
  },
  {
   "cell_type": "markdown",
   "metadata": {},
   "source": [
    "## Import Checkshot corrected sonic logs"
   ]
  },
  {
   "cell_type": "code",
   "execution_count": 11,
   "metadata": {},
   "outputs": [],
   "source": [
    "file1 = r'./sonic_logs/7120_1-1R2_TDR_CalTDR_DTvp-RHOB_CSDea'\n",
    "data1 = pd.read_csv(file1, sep='\\s+', skiprows=14, header=None, na_values='-999')\n",
    "data1 = data1.rename(columns=({0:'X', 1:'Y', 2:'TVDSS', 3:'TWT', 4:'MD', 5:'Well', 6:'Vavg', 7:'Vint'}))\n",
    "data1.TVDSS = data1['TVDSS']*-1\n",
    "data1.TWT = data1['TWT']*-1"
   ]
  },
  {
   "cell_type": "code",
   "execution_count": 12,
   "metadata": {},
   "outputs": [],
   "source": [
    "file2 = r'./sonic_logs/7120_1-3_TDR_CalTDR_DTvp_CS-DEA_Corr1400-1900ms_BSp6ms'\n",
    "data2 = pd.read_csv(file2, sep='\\s+', skiprows=14, header=None, na_values='-999')\n",
    "data2 = data2.rename(columns=({0:'X', 1:'Y', 2:'TVDSS', 3:'TWT', 4:'MD', 5:'Well', 6:'Vavg', 7:'Vint'}))\n",
    "data2.TVDSS = data2['TVDSS']*-1\n",
    "data2.TWT = data2['TWT']*-1"
   ]
  },
  {
   "cell_type": "code",
   "execution_count": 13,
   "metadata": {},
   "outputs": [],
   "source": [
    "file3 = r'./sonic_logs/7120_1-4S_TDR_CalTDR_DTvp_DEN_CSDea_BS0ms'\n",
    "data3 = pd.read_csv(file3, sep='\\s+', skiprows=14, header=None, na_values='-999')\n",
    "data3 = data3.rename(columns=({0:'X', 1:'Y', 2:'TVDSS', 3:'TWT', 4:'MD', 5:'Well', 6:'Vavg', 7:'Vint'}))\n",
    "data3.TVDSS = data3['TVDSS']*-1\n",
    "data3.TWT = data3['TWT']*-1"
   ]
  },
  {
   "cell_type": "code",
   "execution_count": 14,
   "metadata": {},
   "outputs": [],
   "source": [
    "file4 = r'./sonic_logs/7120_1-5_TDR_CalTDR_AC-DEN_CSDiskos'\n",
    "data4 = pd.read_csv(file4, sep='\\s+', skiprows=14, header=None, na_values='-999')\n",
    "data4 = data4.rename(columns=({0:'X', 1:'Y', 2:'TVDSS', 3:'TWT', 4:'MD', 5:'Well', 6:'Vavg', 7:'Vint'}))\n",
    "data4.TVDSS = data4['TVDSS']*-1\n",
    "data4.TWT = data4['TWT']*-1"
   ]
  },
  {
   "cell_type": "code",
   "execution_count": 15,
   "metadata": {},
   "outputs": [],
   "source": [
    "file5 = r'./sonic_logs/7120_2-1_TDR_CalTDR_DTvp-RHOB_BS0ms'\n",
    "data5 = pd.read_csv(file5, sep='\\s+', skiprows=14, header=None, na_values='-999')\n",
    "data5 = data5.rename(columns=({0:'X', 1:'Y', 2:'TVDSS', 3:'TWT', 4:'MD', 5:'Well', 6:'Vavg', 7:'Vint'}))\n",
    "data5.TVDSS = data5['TVDSS']*-1\n",
    "data5.TWT = data5['TWT']*-1"
   ]
  },
  {
   "cell_type": "code",
   "execution_count": 16,
   "metadata": {},
   "outputs": [],
   "source": [
    "file6 = r'./sonic_logs/7120_2-2_TDR_CalTDR_LN17_EW'\n",
    "data6 = pd.read_csv(file6, sep='\\s+', skiprows=14, header=None, na_values='-999')\n",
    "data6 = data6.rename(columns=({0:'X', 1:'Y', 2:'TVDSS', 3:'TWT', 4:'MD', 5:'Well', 6:'Vavg', 7:'Vint'}))\n",
    "data6.TVDSS = data6['TVDSS']*-1\n",
    "data6.TWT = data6['TWT']*-1"
   ]
  },
  {
   "cell_type": "code",
   "execution_count": 17,
   "metadata": {},
   "outputs": [],
   "source": [
    "file7 = r'./sonic_logs/7120_2-3S_TDR_CalTDR_EW1500-2006_BS0ms'\n",
    "data7 = pd.read_csv(file7, sep='\\s+', skiprows=14, header=None, na_values='-999')\n",
    "data7 = data7.rename(columns=({0:'X', 1:'Y', 2:'TVDSS', 3:'TWT', 4:'MD', 5:'Well', 6:'Vavg', 7:'Vint'}))\n",
    "data7.TVDSS = data7['TVDSS']*-1\n",
    "data7.TWT = data7['TWT']*-1"
   ]
  },
  {
   "cell_type": "code",
   "execution_count": 18,
   "metadata": {},
   "outputs": [],
   "source": [
    "file8 = r'./sonic_logs/7219_12-1_TDR_CalTDR_AC_CSDiskos'\n",
    "data8 = pd.read_csv(file8, sep='\\s+', skiprows=14, header=None, na_values='-999')\n",
    "data8 = data8.rename(columns=({0:'X', 1:'Y', 2:'TVDSS', 3:'TWT', 4:'MD', 5:'Well', 6:'Vavg', 7:'Vint'}))\n",
    "data8.TVDSS = data8['TVDSS']*-1\n",
    "data8.TWT = data8['TWT']*-1"
   ]
  },
  {
   "cell_type": "code",
   "execution_count": 19,
   "metadata": {},
   "outputs": [],
   "source": [
    "file9 = r'./sonic_logs/7219_12-3S_TDR_CalTDR'\n",
    "data9 = pd.read_csv(file9, sep='\\s+', skiprows=14, header=None, na_values='-999')\n",
    "data9 = data9.rename(columns=({0:'X', 1:'Y', 2:'TVDSS', 3:'TWT', 4:'MD', 5:'Well', 6:'Vavg', 7:'Vint'}))\n",
    "data9.TVDSS = data9['TVDSS']*-1\n",
    "data9.TWT = data9['TWT']*-1"
   ]
  },
  {
   "cell_type": "code",
   "execution_count": 20,
   "metadata": {},
   "outputs": [],
   "source": [
    "file10 = r'./sonic_logs/7220_10-1_TDR_CalTDR_AC_CSDea_EW'\n",
    "data10 = pd.read_csv(file10, sep='\\s+', skiprows=14, header=None, na_values='-999')\n",
    "data10 = data10.rename(columns=({0:'X', 1:'Y', 2:'TVDSS', 3:'TWT', 4:'MD', 5:'Well', 6:'Vavg', 7:'Vint'}))\n",
    "data10.TVDSS = data10['TVDSS']*-1\n",
    "data10.TWT = data10['TWT']*-1"
   ]
  },
  {
   "cell_type": "code",
   "execution_count": 21,
   "metadata": {},
   "outputs": [],
   "source": [
    "file11 = r'./sonic_logs/7220_11-1_TDR_CalTDR_AC-RHOB_CSDea'\n",
    "data11 = pd.read_csv(file11, sep='\\s+', skiprows=14, header=None, na_values='-999')\n",
    "data11 = data11.rename(columns=({0:'X', 1:'Y', 2:'TVDSS', 3:'TWT', 4:'MD', 5:'Well', 6:'Vavg', 7:'Vint'}))\n",
    "data11.TVDSS = data11['TVDSS']*-1\n",
    "data11.TWT = data11['TWT']*-1"
   ]
  },
  {
   "cell_type": "code",
   "execution_count": 22,
   "metadata": {},
   "outputs": [],
   "source": [
    "file12 = r'./sonic_logs/7220_11-2_TDR_CalTDR_AC-DEN_LN17_CS'\n",
    "data12 = pd.read_csv(file12, sep='\\s+', skiprows=14, header=None, na_values='-999')\n",
    "data12 = data12.rename(columns=({0:'X', 1:'Y', 2:'TVDSS', 3:'TWT', 4:'MD', 5:'Well', 6:'Vavg', 7:'Vint'}))\n",
    "data12.TVDSS = data12['TVDSS']*-1\n",
    "data12.TWT = data12['TWT']*-1"
   ]
  },
  {
   "cell_type": "code",
   "execution_count": 23,
   "metadata": {},
   "outputs": [],
   "source": [
    "file13 = r'./sonic_logs/7220_11-3AR_TDR_CalTDR_AC-DEN_LN17_BS0ms'\n",
    "data13 = pd.read_csv(file13, sep='\\s+', skiprows=14, header=None, na_values='-999')\n",
    "data13 = data13.rename(columns=({0:'X', 1:'Y', 2:'TVDSS', 3:'TWT', 4:'MD', 5:'Well', 6:'Vavg', 7:'Vint'}))\n",
    "data13.TVDSS = data13['TVDSS']*-1\n",
    "data13.TWT = data13['TWT']*-1"
   ]
  },
  {
   "cell_type": "code",
   "execution_count": 24,
   "metadata": {},
   "outputs": [],
   "source": [
    "file14 = r'./sonic_logs/7220_11-4_TDR_CalTDR_AC-DEN_LN17_CSDea'\n",
    "data14 = pd.read_csv(file14, sep='\\s+', skiprows=14, header=None, na_values='-999')\n",
    "data14 = data14.rename(columns=({0:'X', 1:'Y', 2:'TVDSS', 3:'TWT', 4:'MD', 5:'Well', 6:'Vavg', 7:'Vint'}))\n",
    "data14.TVDSS = data14['TVDSS']*-1\n",
    "data14.TWT = data14['TWT']*-1"
   ]
  },
  {
   "cell_type": "code",
   "execution_count": 25,
   "metadata": {},
   "outputs": [
    {
     "data": {
      "text/plain": [
       "(904, 8)"
      ]
     },
     "execution_count": 25,
     "metadata": {},
     "output_type": "execute_result"
    }
   ],
   "source": [
    "data1.shape"
   ]
  },
  {
   "cell_type": "code",
   "execution_count": null,
   "metadata": {},
   "outputs": [],
   "source": []
  },
  {
   "cell_type": "code",
   "execution_count": 26,
   "metadata": {},
   "outputs": [],
   "source": [
    "colors = [\"red\", \"blue\", \"green\", \"orange\", \"black\", \"purple\", \"pink\", \"teal\"]\n",
    "\n",
    "def velocity_logs(top_depth, bottom_depth):\n",
    "    \n",
    "    logs=data1[(data1.TVDSS >= top_depth) & (data1.TVDSS <= bottom_depth)]\n",
    "    fig, ax = plt.subplots(nrows=1, ncols=8, figsize=(15,15), sharey=True)\n",
    "    fig.suptitle(\"Alta\", fontsize=22)\n",
    "    fig.subplots_adjust(top=0.9,wspace=0.1)\n",
    "\n",
    "#General setting for all axis\n",
    "    for axes in ax:\n",
    "        axes.set_ylim (top_depth,bottom_depth)\n",
    "        axes.invert_yaxis()\n",
    "        axes.yaxis.grid(True)\n",
    "        axes.get_xaxis().set_visible(False)\n",
    "#        for (i,j) in zip(W7120_1_1_R2['TVDSS'], W7120_1_1_R2['Surface']):\n",
    "#            if ((i>=top_depth) and (i<=bottom_depth)):\n",
    "#                axes.axhline(y=i, linewidth=0.5, color='black')\n",
    "#                axes.text(0.1, i ,j, horizontalalignment='center',verticalalignment='center')\n",
    "\n",
    "\n",
    "\n",
    "    ax[0]=ax[0].twiny()\n",
    "    ax[0].grid(True)\n",
    "    ax[0].set_xlim(0,7000)\n",
    "    ax[0].spines['top'].set_position(('outward',0))\n",
    "    ax[0].set_xlabel('Vint[m/s]')\n",
    "    ax[0].plot(data1.Vint, data1.TVDSS, label='Vint[m/s]', color=colors[0])\n",
    "    ax[0].set_xlabel('Vint[m/s]', color=colors[0])    \n",
    "    ax[0].tick_params(axis='x', colors=colors[0])\n",
    "    ax[0].set_xlabel('Vavg[m/s]')\n",
    "    ax[0].plot(data1.Vavg, data1.TVDSS, label='Vavg[m/s]', color=colors[1])\n",
    "    ax[0].set_xlabel('Vavg[m/s]', color=colors[1])\n",
    "\n",
    "    ax[1]=ax[1].twiny()\n",
    "    ax[1].grid(True)\n",
    "    ax[1].set_xlim(0,7000)\n",
    "    ax[1].spines['top'].set_position(('outward',0))\n",
    "    ax[1].set_xlabel('Vint[m/s]')\n",
    "    ax[1].plot(data2.Vint, data2.TVDSS, label='Vint[m/s]', color=colors[0])\n",
    "    ax[1].set_xlabel('Vint[m/s]', color=colors[0])    \n",
    "    ax[1].tick_params(axis='x', colors=colors[0])\n",
    "    ax[1].set_xlabel('Vavg[m/s]')\n",
    "    ax[1].plot(data2.Vavg, data2.TVDSS, label='Vavg[m/s]', color=colors[1])\n",
    "    ax[1].set_xlabel('Vavg[m/s]', color=colors[1])\n",
    "    \n",
    "    ax[2]=ax[2].twiny()\n",
    "    ax[2].grid(True)\n",
    "    ax[2].set_xlim(0,7000)\n",
    "    ax[2].spines['top'].set_position(('outward',0))\n",
    "    ax[2].set_xlabel('Vint[m/s]')\n",
    "    ax[2].plot(data3.Vint, data3.TVDSS, label='Vint[m/s]', color=colors[0])\n",
    "    ax[2].set_xlabel('Vint[m/s]', color=colors[0])    \n",
    "    ax[2].tick_params(axis='x', colors=colors[0])\n",
    "    ax[2].set_xlabel('Vavg[m/s]')\n",
    "    ax[2].plot(data3.Vavg, data3.TVDSS, label='Vavg[m/s]', color=colors[1])\n",
    "    ax[2].set_xlabel('Vavg[m/s]', color=colors[1])\n",
    "\n",
    "    ax[3]=ax[3].twiny()\n",
    "    ax[3].grid(True)\n",
    "    ax[3].set_xlim(0,7000)\n",
    "    ax[3].spines['top'].set_position(('outward',0))\n",
    "    ax[3].set_xlabel('Vint[m/s]')\n",
    "    ax[3].plot(data4.Vint, data4.TVDSS, label='Vint[m/s]', color=colors[0])\n",
    "    ax[3].set_xlabel('Vint[m/s]', color=colors[0])    \n",
    "    ax[3].tick_params(axis='x', colors=colors[0])\n",
    "    ax[3].set_xlabel('Vavg[m/s]')\n",
    "    ax[3].plot(data4.Vavg, data4.TVDSS, label='Vavg[m/s]', color=colors[1])\n",
    "    ax[3].set_xlabel('Vavg[m/s]', color=colors[1])\n",
    "\n",
    "    ax[4]=ax[4].twiny()\n",
    "    ax[4].grid(True)\n",
    "    ax[4].set_xlim(0,7000)\n",
    "    ax[4].spines['top'].set_position(('outward',0))\n",
    "    ax[4].set_xlabel('Vint[m/s]')\n",
    "    ax[4].plot(data5.Vint, data5.TVDSS, label='Vint[m/s]', color=colors[0])\n",
    "    ax[4].set_xlabel('Vint[m/s]', color=colors[0])    \n",
    "    ax[4].tick_params(axis='x', colors=colors[0])\n",
    "    ax[4].set_xlabel('Vavg[m/s]')\n",
    "    ax[4].plot(data5.Vavg, data5.TVDSS, label='Vavg[m/s]', color=colors[1])\n",
    "    ax[4].set_xlabel('Vavg[m/s]', color=colors[1])\n",
    "\n",
    "    ax[5]=ax[5].twiny()\n",
    "    ax[5].grid(True)\n",
    "    ax[5].set_xlim(0,7000)\n",
    "    ax[5].spines['top'].set_position(('outward',0))\n",
    "    ax[5].set_xlabel('Vint[m/s]')\n",
    "    ax[5].plot(data6.Vint, data6.TVDSS, label='Vint[m/s]', color=colors[0])\n",
    "    ax[5].set_xlabel('Vint[m/s]', color=colors[0])    \n",
    "    ax[5].tick_params(axis='x', colors=colors[0])\n",
    "    ax[5].set_xlabel('Vavg[m/s]')\n",
    "    ax[5].plot(data6.Vavg, data6.TVDSS, label='Vavg[m/s]', color=colors[1])\n",
    "    ax[5].set_xlabel('Vavg[m/s]', color=colors[1])\n",
    "\n",
    "    ax[6]=ax[6].twiny()\n",
    "    ax[6].grid(True)\n",
    "    ax[6].set_xlim(0,7000)\n",
    "    ax[6].spines['top'].set_position(('outward',0))\n",
    "    ax[6].set_xlabel('Vint[m/s]')\n",
    "    ax[6].plot(data7.Vint, data7.TVDSS, label='Vint[m/s]', color=colors[0])\n",
    "    ax[6].set_xlabel('Vint[m/s]', color=colors[0])    \n",
    "    ax[6].tick_params(axis='x', colors=colors[0])\n",
    "    ax[6].set_xlabel('Vavg[m/s]')\n",
    "    ax[6].plot(data7.Vavg, data7.TVDSS, label='Vavg[m/s]', color=colors[1])\n",
    "    ax[6].set_xlabel('Vavg[m/s]', color=colors[1])\n",
    "\n",
    "    ax[7]=ax[7].twiny()\n",
    "    ax[7].grid(True)\n",
    "    ax[7].set_xlim(0,7000)\n",
    "    ax[7].spines['top'].set_position(('outward',0))\n",
    "    ax[7].set_xlabel('Vint[m/s]')\n",
    "    ax[7].plot(data8.Vint, data8.TVDSS, label='Vint[m/s]', color=colors[0])\n",
    "    ax[7].set_xlabel('Vint[m/s]', color=colors[0])    \n",
    "    ax[7].tick_params(axis='x', colors=colors[0])\n",
    "    ax[7].set_xlabel('Vavg[m/s]')\n",
    "    ax[7].plot(data8.Vavg, data8.TVDSS, label='Vavg[m/s]', color=colors[1])\n",
    "    ax[7].set_xlabel('Vavg[m/s]', color=colors[1])\n",
    "\n"
   ]
  },
  {
   "cell_type": "code",
   "execution_count": 27,
   "metadata": {},
   "outputs": [
    {
     "data": {
      "image/png": "[encoded data removed]",
      "text/plain": [
       "<Figure size 1080x1080 with 16 Axes>"
      ]
     },
     "metadata": {
      "needs_background": "light"
     },
     "output_type": "display_data"
    }
   ],
   "source": [
    "velocity_logs(0, 4000)"
   ]
  }
 ],
 "metadata": {
  "kernelspec": {
   "display_name": "Python 3",
   "language": "python",
   "name": "python3"
  },
  "language_info": {
   "codemirror_mode": {
    "name": "ipython",
    "version": 3
   },
   "file_extension": ".py",
   "mimetype": "text/x-python",
   "name": "python",
   "nbconvert_exporter": "python",
   "pygments_lexer": "ipython3",
   "version": "3.7.4"
  }
 },
 "nbformat": 4,
 "nbformat_minor": 2
}
