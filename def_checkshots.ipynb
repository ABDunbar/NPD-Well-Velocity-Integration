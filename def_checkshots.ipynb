{
 "cells": [
  {
   "cell_type": "code",
   "execution_count": null,
   "metadata": {},
   "outputs": [],
   "source": [
    "import numpy as np\n",
    "import pandas as pd\n",
    "import matplotlib.pyplot as plt\n",
    "import seaborn as sns\n",
    "%matplotlib inline"
   ]
  },
  {
   "cell_type": "code",
   "execution_count": null,
   "metadata": {},
   "outputs": [],
   "source": [
    "file = r'./data/Merged_Checkshots'\n",
    "\n",
    "def loadCheckshot(file):\n",
    "    \"\"\"\n",
    "    Load Petrel exported checkshot file\n",
    "    \"\"\"                   \n",
    "    column_names = ['X', 'Y', 'TVDSS', 'TWT', 'MD', 'Well', 'Vavg', 'Vint', 'Cont', 'User', 'Vreplace']\n",
    "    df = pd.read_csv(file, skiprows=17, header=None, delim_whitespace=True, na_values=-999.0, names=column_names)\n",
    "    \n",
    "    df.TVDSS = cshots.TVDSS * -1\n",
    "    df.TWT = cshots.TWT * -1\n",
    "    df.drop(['Cont', 'User', 'Vreplace'], axis=1, inplace=True)\n",
    "    \n",
    "    return df\n",
    "\n",
    "cshots = loadCheckshot(checkshots)"
   ]
  },
  {
   "cell_type": "code",
   "execution_count": 4,
   "metadata": {},
   "outputs": [
    {
     "data": {
      "text/plain": [
       "['X\\n',\n",
       " 'Y\\n',\n",
       " 'Z\\n',\n",
       " 'TWT picked\\n',\n",
       " 'MD\\n',\n",
       " 'Well\\n',\n",
       " 'Average velocity\\n',\n",
       " 'Interval velocity\\n',\n",
       " 'FLOAT,Continuous\\n',\n",
       " 'FLOAT,User\\n',\n",
       " 'Replacement velocity\\n']"
      ]
     },
     "execution_count": 4,
     "metadata": {},
     "output_type": "execute_result"
    }
   ],
   "source": [
    "file = r'./data/Merged_Checkshots'\n",
    "\n",
    "f = open(file, 'r')\n",
    "line = f.readline()\n",
    "column_names = []\n",
    "while not line.startswith('END'):\n",
    "    if not line.startswith('#'):\n",
    "        if not line.startswith('V'):\n",
    "            if not line.startswith('BEGIN'):\n",
    "                column_names.append(line)\n",
    "    line = f.readline()\n",
    "f.close()\n",
    "column_names"
   ]
  },
  {
   "cell_type": "code",
   "execution_count": null,
   "metadata": {},
   "outputs": [],
   "source": [
    "cshot_wells = list(cshots['Well'].unique())"
   ]
  },
  {
   "cell_type": "code",
   "execution_count": null,
   "metadata": {},
   "outputs": [],
   "source": [
    "cshots[ cshots['Well']=='7120/12-03']"
   ]
  },
  {
   "cell_type": "code",
   "execution_count": null,
   "metadata": {},
   "outputs": [],
   "source": [
    "plt.figure(figsize=(12,6))\n",
    "\n",
    "plt.plot(cshots[ cshots['Well']=='7120/12-03']['TVDSS'], cshots[ cshots['Well']=='7120/12-03']['Vavg'] )\n",
    "plt.plot(cshots[ cshots['Well']=='7120/12-03']['TVDSS'], cshots[ cshots['Well']=='7120/12-03']['Vint'] )\n",
    "\n",
    "plt.legend(loc=0)\n",
    "plt.grid(True)\n",
    "plt.ylabel('Velocity')\n",
    "plt.xlabel('Depth (tvdss)')\n"
   ]
  },
  {
   "cell_type": "code",
   "execution_count": null,
   "metadata": {},
   "outputs": [],
   "source": []
  }
 ],
 "metadata": {
  "kernelspec": {
   "display_name": "Python 3",
   "language": "python",
   "name": "python3"
  },
  "language_info": {
   "codemirror_mode": {
    "name": "ipython",
    "version": 3
   },
   "file_extension": ".py",
   "mimetype": "text/x-python",
   "name": "python",
   "nbconvert_exporter": "python",
   "pygments_lexer": "ipython3",
   "version": "3.6.5"
  }
 },
 "nbformat": 4,
 "nbformat_minor": 2
}
