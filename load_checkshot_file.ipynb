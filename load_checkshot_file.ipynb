{
 "cells": [
  {
   "cell_type": "code",
   "execution_count": 10,
   "metadata": {},
   "outputs": [],
   "source": [
    "import numpy as np\n",
    "import pandas as pd\n",
    "import matplotlib.pyplot as plt\n",
    "import seaborn as sns\n",
    "%matplotlib inline"
   ]
  },
  {
   "cell_type": "code",
   "execution_count": 13,
   "metadata": {},
   "outputs": [
    {
     "data": {
      "text/html": [
       "<div>\n",
       "<style scoped>\n",
       "    .dataframe tbody tr th:only-of-type {\n",
       "        vertical-align: middle;\n",
       "    }\n",
       "\n",
       "    .dataframe tbody tr th {\n",
       "        vertical-align: top;\n",
       "    }\n",
       "\n",
       "    .dataframe thead th {\n",
       "        text-align: right;\n",
       "    }\n",
       "</style>\n",
       "<table border=\"1\" class=\"dataframe\">\n",
       "  <thead>\n",
       "    <tr style=\"text-align: right;\">\n",
       "      <th></th>\n",
       "      <th>X</th>\n",
       "      <th>Y</th>\n",
       "      <th>Z</th>\n",
       "      <th>TWT picked</th>\n",
       "      <th>MD</th>\n",
       "      <th>Well</th>\n",
       "      <th>Average velocity</th>\n",
       "      <th>Interval velocity</th>\n",
       "      <th>FLOAT,Continuous</th>\n",
       "      <th>FLOAT,User</th>\n",
       "      <th>Replacement velocity</th>\n",
       "    </tr>\n",
       "  </thead>\n",
       "  <tbody>\n",
       "    <tr>\n",
       "      <th>0</th>\n",
       "      <td>429692.30</td>\n",
       "      <td>7869591.04</td>\n",
       "      <td>0.00</td>\n",
       "      <td>-0.0</td>\n",
       "      <td>24.0</td>\n",
       "      <td>7019/01-01</td>\n",
       "      <td>NaN</td>\n",
       "      <td>1478.02</td>\n",
       "      <td>0.0</td>\n",
       "      <td>190.0</td>\n",
       "      <td>NaN</td>\n",
       "    </tr>\n",
       "    <tr>\n",
       "      <th>1</th>\n",
       "      <td>429695.25</td>\n",
       "      <td>7869589.36</td>\n",
       "      <td>-1180.97</td>\n",
       "      <td>-1138.9</td>\n",
       "      <td>1205.0</td>\n",
       "      <td>7019/01-01</td>\n",
       "      <td>2073.87</td>\n",
       "      <td>2758.62</td>\n",
       "      <td>1.0</td>\n",
       "      <td>1181.0</td>\n",
       "      <td>NaN</td>\n",
       "    </tr>\n",
       "    <tr>\n",
       "      <th>2</th>\n",
       "      <td>429695.22</td>\n",
       "      <td>7869589.35</td>\n",
       "      <td>-1200.97</td>\n",
       "      <td>-1153.4</td>\n",
       "      <td>1225.0</td>\n",
       "      <td>7019/01-01</td>\n",
       "      <td>2082.48</td>\n",
       "      <td>2836.87</td>\n",
       "      <td>2.0</td>\n",
       "      <td>1201.0</td>\n",
       "      <td>NaN</td>\n",
       "    </tr>\n",
       "    <tr>\n",
       "      <th>3</th>\n",
       "      <td>429695.18</td>\n",
       "      <td>7869589.33</td>\n",
       "      <td>-1220.97</td>\n",
       "      <td>-1167.5</td>\n",
       "      <td>1245.0</td>\n",
       "      <td>7019/01-01</td>\n",
       "      <td>2091.59</td>\n",
       "      <td>3076.92</td>\n",
       "      <td>3.0</td>\n",
       "      <td>1221.0</td>\n",
       "      <td>NaN</td>\n",
       "    </tr>\n",
       "    <tr>\n",
       "      <th>4</th>\n",
       "      <td>429695.15</td>\n",
       "      <td>7869589.31</td>\n",
       "      <td>-1240.97</td>\n",
       "      <td>-1180.5</td>\n",
       "      <td>1265.0</td>\n",
       "      <td>7019/01-01</td>\n",
       "      <td>2102.44</td>\n",
       "      <td>2962.96</td>\n",
       "      <td>4.0</td>\n",
       "      <td>1241.0</td>\n",
       "      <td>NaN</td>\n",
       "    </tr>\n",
       "  </tbody>\n",
       "</table>\n",
       "</div>"
      ],
      "text/plain": [
       "           X           Y        Z  TWT picked      MD        Well  \\\n",
       "0  429692.30  7869591.04     0.00        -0.0    24.0  7019/01-01   \n",
       "1  429695.25  7869589.36 -1180.97     -1138.9  1205.0  7019/01-01   \n",
       "2  429695.22  7869589.35 -1200.97     -1153.4  1225.0  7019/01-01   \n",
       "3  429695.18  7869589.33 -1220.97     -1167.5  1245.0  7019/01-01   \n",
       "4  429695.15  7869589.31 -1240.97     -1180.5  1265.0  7019/01-01   \n",
       "\n",
       "   Average velocity  Interval velocity  FLOAT,Continuous  FLOAT,User  \\\n",
       "0               NaN            1478.02               0.0       190.0   \n",
       "1           2073.87            2758.62               1.0      1181.0   \n",
       "2           2082.48            2836.87               2.0      1201.0   \n",
       "3           2091.59            3076.92               3.0      1221.0   \n",
       "4           2102.44            2962.96               4.0      1241.0   \n",
       "\n",
       "   Replacement velocity  \n",
       "0                   NaN  \n",
       "1                   NaN  \n",
       "2                   NaN  \n",
       "3                   NaN  \n",
       "4                   NaN  "
      ]
     },
     "execution_count": 13,
     "metadata": {},
     "output_type": "execute_result"
    }
   ],
   "source": [
    "file = r'./data/Merged_Checkshots'\n",
    "\n",
    "def loadCheckshot(file):\n",
    "    \"\"\"\n",
    "    Load Petrel exported checkshot file\n",
    "    \"\"\"\n",
    "    f = open(file, 'r')\n",
    "    line = f.readline()\n",
    "    column_names = []\n",
    "    while not line.startswith('END'):\n",
    "        if not line.startswith('#'):\n",
    "            if not line.startswith('V'):\n",
    "                if not line.startswith('BEGIN'):\n",
    "                    column_names.append(line.rstrip())\n",
    "        line = f.readline()\n",
    "    f.close()\n",
    "    \n",
    "    df = pd.read_csv(file, skiprows=17, header=None, delim_whitespace=True, na_values=-999.0, names=column_names)\n",
    "    \n",
    "    return df\n",
    "\n",
    "cshots = loadCheckshot(file)\n",
    "cshots.head()"
   ]
  },
  {
   "cell_type": "code",
   "execution_count": 14,
   "metadata": {},
   "outputs": [
    {
     "data": {
      "text/plain": [
       "Index(['X', 'Y', 'Z', 'TWT picked', 'MD', 'Well', 'Average velocity',\n",
       "       'Interval velocity', 'FLOAT,Continuous', 'FLOAT,User',\n",
       "       'Replacement velocity'],\n",
       "      dtype='object')"
      ]
     },
     "execution_count": 14,
     "metadata": {},
     "output_type": "execute_result"
    }
   ],
   "source": [
    "cshots.columns"
   ]
  },
  {
   "cell_type": "code",
   "execution_count": 16,
   "metadata": {},
   "outputs": [],
   "source": [
    "cshots.Z = cshots.Z * -1\n",
    "cshots['TWT picked'] = cshots['TWT picked'] * -1\n",
    "cshots.drop(['FLOAT,Continuous', 'FLOAT,User', 'Replacement velocity'], axis=1, inplace=True)"
   ]
  },
  {
   "cell_type": "code",
   "execution_count": 17,
   "metadata": {},
   "outputs": [],
   "source": [
    "cshot_wells = list(cshots['Well'].unique())"
   ]
  },
  {
   "cell_type": "code",
   "execution_count": null,
   "metadata": {},
   "outputs": [],
   "source": [
    "cshots[ cshots['Well']=='7120/12-03']"
   ]
  },
  {
   "cell_type": "code",
   "execution_count": 19,
   "metadata": {},
   "outputs": [
    {
     "data": {
      "text/plain": [
       "Text(0.5,0,'Depth (tvdss)')"
      ]
     },
     "execution_count": 19,
     "metadata": {},
     "output_type": "execute_result"
    },
    {
     "data": {
      "image/png": "[encoded data removed]",
      "text/plain": [
       "<Figure size 864x432 with 1 Axes>"
      ]
     },
     "metadata": {
      "needs_background": "light"
     },
     "output_type": "display_data"
    }
   ],
   "source": [
    "plt.figure(figsize=(12,6))\n",
    "\n",
    "plt.plot(cshots[ cshots['Well']=='7120/12-03']['Z'], cshots[ cshots['Well']=='7120/12-03']['Average velocity'] )\n",
    "plt.plot(cshots[ cshots['Well']=='7120/12-03']['Z'], cshots[ cshots['Well']=='7120/12-03']['Interval velocity'] )\n",
    "\n",
    "plt.legend(loc=0)\n",
    "plt.grid(True)\n",
    "plt.ylabel('Velocity')\n",
    "plt.xlabel('Depth (tvdss)')\n"
   ]
  },
  {
   "cell_type": "code",
   "execution_count": null,
   "metadata": {},
   "outputs": [],
   "source": []
  }
 ],
 "metadata": {
  "kernelspec": {
   "display_name": "Python 3",
   "language": "python",
   "name": "python3"
  },
  "language_info": {
   "codemirror_mode": {
    "name": "ipython",
    "version": 3
   },
   "file_extension": ".py",
   "mimetype": "text/x-python",
   "name": "python",
   "nbconvert_exporter": "python",
   "pygments_lexer": "ipython3",
   "version": "3.6.5"
  }
 },
 "nbformat": 4,
 "nbformat_minor": 2
}
