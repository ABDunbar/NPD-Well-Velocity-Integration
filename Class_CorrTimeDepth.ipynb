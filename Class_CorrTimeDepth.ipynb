{
 "cells": [
  {
   "cell_type": "code",
   "execution_count": 1,
   "metadata": {},
   "outputs": [],
   "source": [
    "import numpy as np\n",
    "import pandas as pd\n",
    "import os"
   ]
  },
  {
   "cell_type": "code",
   "execution_count": 7,
   "metadata": {},
   "outputs": [
    {
     "data": {
      "text/plain": [
       "['7120_1-1R2_TDR_CalTDR_DTvp-RHOB_CSDea',\n",
       " '7120_1-3_TDR_CalTDR_DTvp_CS-DEA_Corr1400-1900ms_BSp6ms',\n",
       " '7120_1-4S_TDR_CalTDR_DTvp_DEN_CSDea_BS0ms',\n",
       " '7120_1-5_TDR_CalTDR_AC-DEN_CSDiskos',\n",
       " '7120_2-1_TDR_CalTDR_DTvp-RHOB_BS0ms',\n",
       " '7120_2-2_TDR_CalTDR_LN17_EW',\n",
       " '7120_2-3S_TDR_CalTDR_EW1500-2006_BS0ms',\n",
       " '7219_12-1_TDR_CalTDR_AC_CSDiskos',\n",
       " '7219_12-3S_TDR_CalTDR',\n",
       " '7220_10-1_TDR_CalTDR_AC_CSDea_EW',\n",
       " '7220_11-1_TDR_CalTDR_AC-RHOB_CSDea',\n",
       " '7220_11-2_TDR_CalTDR_AC-DEN_LN17_CS',\n",
       " '7220_11-3AR_TDR_CalTDR_AC-DEN_LN17_BS0ms',\n",
       " '7220_11-4_TDR_CalTDR_AC-DEN_LN17_CSDea']"
      ]
     },
     "execution_count": 7,
     "metadata": {},
     "output_type": "execute_result"
    }
   ],
   "source": [
    "path = r'./sonic_logs'\n",
    "\n",
    "tdr_list = []\n",
    "file = open('sonic_list', 'r') \n",
    "for line in file: \n",
    "    tdr_list.append(line.rstrip())\n",
    "\n",
    "\n",
    "def correctedTDR(file):\n",
    "    \"\"\"\n",
    "    Imports Petrel TDR (checkshot corrected sonic log) \n",
    "    X, Y, Z, TWT picked, MD, Well, Average velocity, Interval velocity\n",
    "    \"\"\"\n",
    "    frame = pd.DataFrame()\n",
    "    for file in tdr_list:\n",
    "        df = pd.read_csv(os.path.join(path, file), sep='\\s+', skiprows=14, header=None, na_values='-999')\n",
    "        df = df.rename(columns=({0:'X', 1:'Y', 2:'TVDSS', 3:'TWT', 4:'MD', 5:'Well', 6:'Vavg', 7:'Vint'}))\n",
    "        df.TVDSS = df['TVDSS']*-1\n",
    "        df.TWT = df['TWT']*-1\n",
    "        \n",
    "        frame = frame.append(df)\n",
    "\n",
    "    return frame\n",
    "\n",
    "corrTDR = correctedTDR(tdr_list)\n",
    "corrTDR.head()"
   ]
  },
  {
   "cell_type": "code",
   "execution_count": null,
   "metadata": {},
   "outputs": [],
   "source": []
  }
 ],
 "metadata": {
  "kernelspec": {
   "display_name": "Python 3",
   "language": "python",
   "name": "python3"
  },
  "language_info": {
   "codemirror_mode": {
    "name": "ipython",
    "version": 3
   },
   "file_extension": ".py",
   "mimetype": "text/x-python",
   "name": "python",
   "nbconvert_exporter": "python",
   "pygments_lexer": "ipython3",
   "version": "3.7.0"
  }
 },
 "nbformat": 4,
 "nbformat_minor": 2
}
